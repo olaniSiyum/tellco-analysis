{
 "cells": [
  {
   "cell_type": "code",
   "execution_count": 1,
   "metadata": {},
   "outputs": [],
   "source": [
    "import pandas as pd\n",
    "import numpy as np\n",
    "import matplotlib.pyplot as plt\n",
    "import seaborn as sns\n",
    "import sys\n",
    "import os"
   ]
  },
  {
   "cell_type": "code",
   "execution_count": 2,
   "metadata": {},
   "outputs": [],
   "source": [
    "df = pd.read_csv('../data/clean_data.csv')"
   ]
  },
  {
   "cell_type": "markdown",
   "metadata": {},
   "source": [
    "## Compute Engagement Score\n",
    "### Aggregate Engagement Metrics"
   ]
  },
  {
   "cell_type": "code",
   "execution_count": 5,
   "metadata": {},
   "outputs": [
    {
     "name": "stdout",
     "output_type": "stream",
     "text": [
      "Index(['MSISDN/Number', 'Handset Type', 'Total Data Usage (Bytes)',\n",
      "       'Engagement Metric', 'Experience Metric'],\n",
      "      dtype='object')\n"
     ]
    }
   ],
   "source": [
    "# Example of data aggregation and correction\n",
    "df_agg = pd.DataFrame()\n",
    "df_agg['MSISDN/Number'] = df['MSISDN/Number']\n",
    "df_agg['Handset Type'] = df['Handset Type']\n",
    "\n",
    "# If the column does not exist, create or correct the engagement metric\n",
    "df_agg['Total Data Usage (Bytes)'] = (\n",
    "    df['Total DL (Bytes)'] + df['Total UL (Bytes)']\n",
    ") / df.shape[0]\n",
    "\n",
    "# Rename or create the columns you need for clustering\n",
    "df_agg['Engagement Metric'] = (\n",
    "    (df['Total DL (Bytes)'] + df['Total UL (Bytes)']) / 2\n",
    ")\n",
    "df_agg['Experience Metric'] = (\n",
    "    (df['Avg RTT DL (ms)'] + df['Avg RTT UL (ms)']) / 2\n",
    ")\n",
    "\n",
    "print(df_agg.columns)"
   ]
  },
  {
   "cell_type": "markdown",
   "metadata": {},
   "source": [
    "### K-Means Clustering"
   ]
  },
  {
   "cell_type": "code",
   "execution_count": 6,
   "metadata": {},
   "outputs": [],
   "source": [
    "from sklearn.cluster import KMeans\n",
    "from sklearn.metrics.pairwise import euclidean_distances\n",
    "\n",
    "# Prepare data for clustering\n",
    "X_engagement = df_agg[['Engagement Metric']]\n",
    "X_experience = df_agg[['Experience Metric']]\n",
    "\n",
    "# Run k-means clustering\n",
    "kmeans_engagement = KMeans(n_clusters=3, random_state=42)\n",
    "df_agg['Engagement Cluster'] = kmeans_engagement.fit_predict(X_engagement)\n",
    "\n",
    "kmeans_experience = KMeans(n_clusters=3, random_state=42)\n",
    "df_agg['Experience Cluster'] = kmeans_experience.fit_predict(X_experience)"
   ]
  },
  {
   "cell_type": "markdown",
   "metadata": {},
   "source": [
    "### Engagement and Experience Scores"
   ]
  },
  {
   "cell_type": "code",
   "execution_count": 8,
   "metadata": {},
   "outputs": [],
   "source": [
    "from sklearn.metrics.pairwise import euclidean_distances\n",
    "\n",
    "# Assuming you have the cluster centers from previous clustering\n",
    "engagement_cluster_centers = kmeans_engagement.cluster_centers_\n",
    "experience_cluster_centers = kmeans_experience.cluster_centers_\n",
    "\n",
    "# Identify the least engaged and worst experience clusters\n",
    "least_engaged_cluster = engagement_cluster_centers.argmin()\n",
    "worst_experience_cluster = experience_cluster_centers.argmax()\n",
    "\n",
    "# Compute engagement scores\n",
    "df_agg['Engagement Score'] = euclidean_distances(\n",
    "    X_engagement, engagement_cluster_centers[least_engaged_cluster].reshape(1, -1)\n",
    ").flatten()\n",
    "\n",
    "# Compute experience scores\n",
    "df_agg['Experience Score'] = euclidean_distances(\n",
    "    X_experience, experience_cluster_centers[worst_experience_cluster].reshape(1, -1)\n",
    ").flatten()"
   ]
  },
  {
   "cell_type": "markdown",
   "metadata": {},
   "source": [
    "### Satisfaction Score and Report Top 10 Customers"
   ]
  },
  {
   "cell_type": "code",
   "execution_count": 9,
   "metadata": {},
   "outputs": [
    {
     "name": "stdout",
     "output_type": "stream",
     "text": [
      "        MSISDN/Number  Satisfaction Score\n",
      "51666    3.367492e+10        1.863890e+08\n",
      "138863   3.366469e+10        1.855531e+08\n",
      "66304    3.366855e+10        1.854696e+08\n",
      "76298    3.365881e+10        1.853367e+08\n",
      "107682   3.366783e+10        1.850830e+08\n",
      "60549    3.361083e+10        1.848897e+08\n",
      "5382     3.360667e+10        1.847924e+08\n",
      "118931   3.366261e+10        1.847159e+08\n",
      "50450    3.366205e+10        1.846860e+08\n",
      "146885   3.366853e+10        1.845953e+08\n"
     ]
    }
   ],
   "source": [
    "# Calculate satisfaction score\n",
    "df_agg['Satisfaction Score'] = (df_agg['Engagement Score'] + df_agg['Experience Score']) / 2\n",
    "\n",
    "# Report top 10 satisfied customers\n",
    "top_10_satisfied = df_agg.nlargest(10, 'Satisfaction Score')\n",
    "print(top_10_satisfied[['MSISDN/Number', 'Satisfaction Score']])"
   ]
  },
  {
   "cell_type": "markdown",
   "metadata": {},
   "source": [
    "### Regression Model"
   ]
  },
  {
   "cell_type": "code",
   "execution_count": 10,
   "metadata": {},
   "outputs": [
    {
     "name": "stdout",
     "output_type": "stream",
     "text": [
      "Mean Squared Error: 1.4812030114354862e-15\n",
      "R2 Score: 1.0\n"
     ]
    }
   ],
   "source": [
    "from sklearn.model_selection import train_test_split\n",
    "from sklearn.linear_model import LinearRegression\n",
    "from sklearn.metrics import mean_squared_error, r2_score\n",
    "\n",
    "# Features and target\n",
    "X = df_agg[['Engagement Score', 'Experience Score']]\n",
    "y = df_agg['Satisfaction Score']\n",
    "\n",
    "# Split data\n",
    "X_train, X_test, y_train, y_test = train_test_split(X, y, test_size=0.2, random_state=42)\n",
    "\n",
    "# Build and train the model\n",
    "model = LinearRegression()\n",
    "model.fit(X_train, y_train)\n",
    "\n",
    "# Predict and evaluate\n",
    "y_pred = model.predict(X_test)\n",
    "print(\"Mean Squared Error:\", mean_squared_error(y_test, y_pred))\n",
    "print(\"R2 Score:\", r2_score(y_test, y_pred))"
   ]
  },
  {
   "cell_type": "markdown",
   "metadata": {},
   "source": [
    "### K-means on Engagement and Experience Scores"
   ]
  },
  {
   "cell_type": "code",
   "execution_count": 11,
   "metadata": {},
   "outputs": [
    {
     "name": "stdout",
     "output_type": "stream",
     "text": [
      "Score Cluster Centers:\n",
      " [[6.80262502e+07 1.54081263e+04]\n",
      " [2.58926908e+08 1.54101696e+04]]\n"
     ]
    }
   ],
   "source": [
    "# Prepare data for clustering\n",
    "X_scores = df_agg[['Engagement Score', 'Experience Score']]\n",
    "\n",
    "# Run k-means clustering\n",
    "kmeans_scores = KMeans(n_clusters=2, random_state=42)\n",
    "df_agg['Score Cluster'] = kmeans_scores.fit_predict(X_scores)\n",
    "\n",
    "# Inspect cluster centers\n",
    "print(\"Score Cluster Centers:\\n\", kmeans_scores.cluster_centers_)"
   ]
  },
  {
   "cell_type": "markdown",
   "metadata": {},
   "source": [
    "### Aggregate Average Satisfaction and Experience Score per Cluster"
   ]
  },
  {
   "cell_type": "code",
   "execution_count": 12,
   "metadata": {},
   "outputs": [
    {
     "name": "stdout",
     "output_type": "stream",
     "text": [
      "   Score Cluster  Satisfaction Score  Experience Score\n",
      "0              0        3.390075e+07      15408.090064\n",
      "1              1        1.293260e+08      15410.207381\n"
     ]
    }
   ],
   "source": [
    "# Aggregate average scores per cluster\n",
    "cluster_summary = df_agg.groupby('Score Cluster').agg({\n",
    "    'Satisfaction Score': 'mean',\n",
    "    'Experience Score': 'mean'\n",
    "}).reset_index()\n",
    "\n",
    "print(cluster_summary)"
   ]
  }
 ],
 "metadata": {
  "kernelspec": {
   "display_name": ".venv",
   "language": "python",
   "name": "python3"
  },
  "language_info": {
   "codemirror_mode": {
    "name": "ipython",
    "version": 3
   },
   "file_extension": ".py",
   "mimetype": "text/x-python",
   "name": "python",
   "nbconvert_exporter": "python",
   "pygments_lexer": "ipython3",
   "version": "3.12.5"
  }
 },
 "nbformat": 4,
 "nbformat_minor": 2
}
